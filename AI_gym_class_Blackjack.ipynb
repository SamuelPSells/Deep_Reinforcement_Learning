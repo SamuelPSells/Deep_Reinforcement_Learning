{
 "cells": [
  {
   "cell_type": "code",
   "execution_count": 2,
   "metadata": {},
   "outputs": [],
   "source": [
    "import gymnasium as gym\n",
    "import pandas as pd\n",
    "import numpy as np\n",
    "import matplotlib.pyplot as plt\n",
    "import torch\n",
    "import torch.nn as nn\n",
    "import sys\n",
    "sys.path.append(r'./DRL')\n",
    "from DRL.DRL import DeepReinforcementLearner"
   ]
  },
  {
   "cell_type": "code",
   "execution_count": 2,
   "metadata": {},
   "outputs": [
    {
     "data": {
      "text/plain": [
       "((20, 10, 0), {})"
      ]
     },
     "execution_count": 2,
     "metadata": {},
     "output_type": "execute_result"
    }
   ],
   "source": [
    "env1 = gym.make(\"Blackjack-v1\")\n",
    "env1.reset()"
   ]
  },
  {
   "cell_type": "code",
   "execution_count": 3,
   "metadata": {},
   "outputs": [
    {
     "data": {
      "text/plain": [
       "((10, 10, 0), {})"
      ]
     },
     "execution_count": 3,
     "metadata": {},
     "output_type": "execute_result"
    }
   ],
   "source": [
    "env_val = gym.make(\"Blackjack-v1\")\n",
    "env_val.reset()"
   ]
  },
  {
   "cell_type": "code",
   "execution_count": 4,
   "metadata": {},
   "outputs": [],
   "source": [
    "drl = DeepReinforcementLearner(\n",
    "    observation_max=(32,11,2),\n",
    "    action_max=(2)\n",
    ")\n",
    "\n",
    "drl.create_model(\n",
    "    hidden_layer_list = [100,120],\n",
    "    activation_list=[nn.ReLU(),nn.ReLU()]\n",
    ")"
   ]
  },
  {
   "cell_type": "code",
   "execution_count": 5,
   "metadata": {},
   "outputs": [],
   "source": [
    "epochs = 20\n",
    "games_per_epoch = 10000\n",
    "validation_size = 10000\n",
    "criterion = nn.MSELoss()\n",
    "optimizer = torch.optim.Adam(params=drl.model_policy.parameters(), lr=0.01)\n",
    "gamma = 0.8\n",
    "discount_factor = 0.8"
   ]
  },
  {
   "cell_type": "code",
   "execution_count": 6,
   "metadata": {},
   "outputs": [
    {
     "name": "stdout",
     "output_type": "stream",
     "text": [
      "Validation: (Epoch: 1; Wins: 3750.0; Losses: 5772.0)\n",
      "Validation: (Epoch: 2; Wins: 3779.0; Losses: 5727.0)\n",
      "Validation: (Epoch: 3; Wins: 3787.0; Losses: 5711.0)\n",
      "Validation: (Epoch: 4; Wins: 3874.0; Losses: 5628.0)\n",
      "Validation: (Epoch: 5; Wins: 3857.0; Losses: 5659.0)\n",
      "Validation: (Epoch: 6; Wins: 3841.0; Losses: 5648.0)\n",
      "Validation: (Epoch: 7; Wins: 4017.0; Losses: 5281.0)\n",
      "Validation: (Epoch: 8; Wins: 4067.0; Losses: 5147.0)\n",
      "Validation: (Epoch: 9; Wins: 4192.0; Losses: 4973.0)\n",
      "Validation: (Epoch: 10; Wins: 4254.0; Losses: 4970.0)\n",
      "Validation: (Epoch: 11; Wins: 4229.0; Losses: 4918.0)\n",
      "Validation: (Epoch: 12; Wins: 4196.0; Losses: 4951.0)\n",
      "Validation: (Epoch: 13; Wins: 4201.0; Losses: 4985.0)\n",
      "Validation: (Epoch: 14; Wins: 4095.0; Losses: 5122.0)\n",
      "Validation: (Epoch: 15; Wins: 4278.0; Losses: 5008.0)\n",
      "Validation: (Epoch: 16; Wins: 4270.0; Losses: 5018.0)\n",
      "Validation: (Epoch: 17; Wins: 4279.0; Losses: 4970.0)\n",
      "Validation: (Epoch: 18; Wins: 4326.0; Losses: 4887.0)\n",
      "Validation: (Epoch: 19; Wins: 4314.0; Losses: 4850.0)\n"
     ]
    },
    {
     "name": "stderr",
     "output_type": "stream",
     "text": [
      "c:\\Users\\snowy\\Documents\\Python\\DRL\\DRL.py:226: RuntimeWarning: divide by zero encountered in log2\n",
      "  np.log2(\n"
     ]
    },
    {
     "name": "stdout",
     "output_type": "stream",
     "text": [
      "Validation: (Epoch: 20; Wins: 4370.0; Losses: 4762.0)\n"
     ]
    }
   ],
   "source": [
    "drl.train(\n",
    "    env=env1,\n",
    "    epochs=epochs,\n",
    "    games_per_epoch=games_per_epoch,\n",
    "    criterion=criterion,\n",
    "    optimizer=optimizer,\n",
    "    gamma=gamma,\n",
    "    discount_factor=discount_factor,\n",
    "    validation=True,\n",
    "    validation_env=env_val,\n",
    "    validation_size=validation_size,\n",
    ")"
   ]
  },
  {
   "cell_type": "code",
   "execution_count": 108,
   "metadata": {},
   "outputs": [
    {
     "name": "stdout",
     "output_type": "stream",
     "text": [
      "Observation = (16, 1, 0)\n"
     ]
    }
   ],
   "source": [
    "env = gym.make(\n",
    "    \"Blackjack-v1\", \n",
    "    render_mode='human'\n",
    ")\n",
    "\n",
    "observation, info = env.reset()\n",
    "print(f'Observation = {observation}')"
   ]
  },
  {
   "cell_type": "code",
   "execution_count": 109,
   "metadata": {},
   "outputs": [
    {
     "name": "stdout",
     "output_type": "stream",
     "text": [
      "1\n",
      "Observation = (17, 1, 0)\n",
      "Reward = 0.0\n",
      "Terminated = False\n"
     ]
    }
   ],
   "source": [
    "step = drl.evaluate(observation)\n",
    "print(step)\n",
    "observation, reward, terminated, truncated, info = env.step(step)\n",
    "print(f'Observation = {observation}')\n",
    "print(f'Reward = {reward}')\n",
    "print(f'Terminated = {terminated}')"
   ]
  },
  {
   "cell_type": "code",
   "execution_count": 110,
   "metadata": {},
   "outputs": [
    {
     "name": "stdout",
     "output_type": "stream",
     "text": [
      "0\n",
      "Observation = (17, 1, 0)\n",
      "Reward = -1.0\n",
      "Terminated = True\n"
     ]
    }
   ],
   "source": [
    "step = drl.evaluate(observation)\n",
    "print(step)\n",
    "observation, reward, terminated, truncated, info = env.step(step)\n",
    "print(f'Observation = {observation}')\n",
    "print(f'Reward = {reward}')\n",
    "print(f'Terminated = {terminated}')"
   ]
  }
 ],
 "metadata": {
  "kernelspec": {
   "display_name": "Python 3",
   "language": "python",
   "name": "python3"
  },
  "language_info": {
   "codemirror_mode": {
    "name": "ipython",
    "version": 3
   },
   "file_extension": ".py",
   "mimetype": "text/x-python",
   "name": "python",
   "nbconvert_exporter": "python",
   "pygments_lexer": "ipython3",
   "version": "3.12.5"
  }
 },
 "nbformat": 4,
 "nbformat_minor": 2
}
